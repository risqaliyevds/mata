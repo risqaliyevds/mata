{
 "cells": [
  {
   "cell_type": "code",
   "execution_count": 1,
   "id": "c43116ab",
   "metadata": {},
   "outputs": [],
   "source": [
    "import pandas as pd\n",
    "import numpy as np\n",
    "\n",
    "import matplotlib.pyplot as plt\n",
    "import seaborn as sns"
   ]
  },
  {
   "cell_type": "code",
   "execution_count": 117,
   "id": "cad5a5c7",
   "metadata": {},
   "outputs": [],
   "source": [
    "df1 = pd.read_csv('df1.csv', index_col= 0)\n",
    "df2 = pd.read_csv('df2.csv', index_col= 0)\n",
    "df3 = pd.read_csv('df3.csv', index_col= 0)\n",
    "df4 = pd.read_csv('df4.csv', index_col= 0)\n",
    "df5 = pd.read_csv('df5.csv', index_col= 0)\n",
    "df6 = pd.read_csv('df6.csv', index_col= 0)"
   ]
  },
  {
   "cell_type": "code",
   "execution_count": 118,
   "id": "1f9464cd",
   "metadata": {},
   "outputs": [],
   "source": [
    "df = pd.concat([df1, df2, df3, df4, df5, df6])"
   ]
  },
  {
   "cell_type": "code",
   "execution_count": 119,
   "id": "3694bdd1",
   "metadata": {},
   "outputs": [],
   "source": [
    "df.reset_index(drop = True)"
   ]
  },
  {
   "cell_type": "code",
   "execution_count": 120,
   "id": "6709e197",
   "metadata": {},
   "outputs": [],
   "source": [
    "df['status'] = [i.split(' ')[-1] for i in df.name]"
   ]
  },
  {
   "cell_type": "code",
   "execution_count": 121,
   "id": "6606f224",
   "metadata": {},
   "outputs": [],
   "source": [
    "df = df[['status', 'adress', 'rooms', 'size', 'level', 'repair', 'wall', 'price']]"
   ]
  },
  {
   "cell_type": "code",
   "execution_count": 122,
   "id": "fbce78a4",
   "metadata": {},
   "outputs": [],
   "source": [
    "df"
   ]
  },
  {
   "cell_type": "code",
   "execution_count": 48,
   "id": "d5fb0e98",
   "metadata": {},
   "outputs": [],
   "source": [
    "bool = [i.split(',')[0] == 'город Ташкент' for i in df.adress]"
   ]
  },
  {
   "cell_type": "code",
   "execution_count": 51,
   "id": "c701bb77",
   "metadata": {},
   "outputs": [],
   "source": [
    "df = df[bool]"
   ]
  },
  {
   "cell_type": "code",
   "execution_count": 116,
   "id": "c85316bd",
   "metadata": {},
   "outputs": [],
   "source": [
    "df"
   ]
  },
  {
   "cell_type": "code",
   "execution_count": 61,
   "id": "e9029637",
   "metadata": {},
   "outputs": [],
   "source": [
    "del df_adress"
   ]
  },
  {
   "cell_type": "code",
   "execution_count": 63,
   "id": "7a70db0f",
   "metadata": {},
   "outputs": [],
   "source": [
    "df_adress = pd.DataFrame()"
   ]
  },
  {
   "cell_type": "code",
   "execution_count": 64,
   "id": "d3dc574c",
   "metadata": {},
   "outputs": [],
   "source": [
    "df_adress['city'] = [i.split(',')[0] for i in df.adress]"
   ]
  },
  {
   "cell_type": "code",
   "execution_count": 65,
   "id": "71fc79a8",
   "metadata": {},
   "outputs": [],
   "source": [
    "df_adress['tuman'] = [i.split(',')[1] for i in df.adress]"
   ]
  },
  {
   "cell_type": "code",
   "execution_count": 67,
   "id": "555fcef7",
   "metadata": {},
   "outputs": [
    {
     "ename": "IndexError",
     "evalue": "list index out of range",
     "output_type": "error",
     "traceback": [
      "\u001b[1;31m---------------------------------------------------------------------------\u001b[0m",
      "\u001b[1;31mIndexError\u001b[0m                                Traceback (most recent call last)",
      "Cell \u001b[1;32mIn[67], line 1\u001b[0m\n\u001b[1;32m----> 1\u001b[0m df_adress[\u001b[38;5;124m'\u001b[39m\u001b[38;5;124mqush\u001b[39m\u001b[38;5;124m'\u001b[39m] \u001b[38;5;241m=\u001b[39m [i\u001b[38;5;241m.\u001b[39msplit(\u001b[38;5;124m'\u001b[39m\u001b[38;5;124m,\u001b[39m\u001b[38;5;124m'\u001b[39m)[\u001b[38;5;241m2\u001b[39m] \u001b[38;5;28;01mfor\u001b[39;00m i \u001b[38;5;129;01min\u001b[39;00m df\u001b[38;5;241m.\u001b[39madress]\n",
      "Cell \u001b[1;32mIn[67], line 1\u001b[0m, in \u001b[0;36m<listcomp>\u001b[1;34m(.0)\u001b[0m\n\u001b[1;32m----> 1\u001b[0m df_adress[\u001b[38;5;124m'\u001b[39m\u001b[38;5;124mqush\u001b[39m\u001b[38;5;124m'\u001b[39m] \u001b[38;5;241m=\u001b[39m [\u001b[43mi\u001b[49m\u001b[38;5;241;43m.\u001b[39;49m\u001b[43msplit\u001b[49m\u001b[43m(\u001b[49m\u001b[38;5;124;43m'\u001b[39;49m\u001b[38;5;124;43m,\u001b[39;49m\u001b[38;5;124;43m'\u001b[39;49m\u001b[43m)\u001b[49m\u001b[43m[\u001b[49m\u001b[38;5;241;43m2\u001b[39;49m\u001b[43m]\u001b[49m \u001b[38;5;28;01mfor\u001b[39;00m i \u001b[38;5;129;01min\u001b[39;00m df\u001b[38;5;241m.\u001b[39madress]\n",
      "\u001b[1;31mIndexError\u001b[0m: list index out of range"
     ]
    }
   ],
   "source": [
    "df_adress['qush'] = [i.split(',')[2] for i in df.adress]"
   ]
  },
  {
   "cell_type": "code",
   "execution_count": 68,
   "id": "87aa9948",
   "metadata": {},
   "outputs": [
    {
     "name": "stderr",
     "output_type": "stream",
     "text": [
      "C:\\Users\\qiziq\\AppData\\Local\\Temp\\ipykernel_7752\\2936865491.py:1: SettingWithCopyWarning: \n",
      "A value is trying to be set on a copy of a slice from a DataFrame.\n",
      "Try using .loc[row_indexer,col_indexer] = value instead\n",
      "\n",
      "See the caveats in the documentation: https://pandas.pydata.org/pandas-docs/stable/user_guide/indexing.html#returning-a-view-versus-a-copy\n",
      "  df.adress = df_adress.tuman\n"
     ]
    }
   ],
   "source": [
    "df.adress = df_adress.tuman"
   ]
  },
  {
   "cell_type": "code",
   "execution_count": 71,
   "id": "70f1c72c",
   "metadata": {},
   "outputs": [],
   "source": [
    "df = df.reset_index(drop= True)"
   ]
  },
  {
   "cell_type": "code",
   "execution_count": 72,
   "id": "db6039dd",
   "metadata": {},
   "outputs": [
    {
     "data": {
      "text/html": [
       "<div>\n",
       "<style scoped>\n",
       "    .dataframe tbody tr th:only-of-type {\n",
       "        vertical-align: middle;\n",
       "    }\n",
       "\n",
       "    .dataframe tbody tr th {\n",
       "        vertical-align: top;\n",
       "    }\n",
       "\n",
       "    .dataframe thead th {\n",
       "        text-align: right;\n",
       "    }\n",
       "</style>\n",
       "<table border=\"1\" class=\"dataframe\">\n",
       "  <thead>\n",
       "    <tr style=\"text-align: right;\">\n",
       "      <th></th>\n",
       "      <th>status</th>\n",
       "      <th>adress</th>\n",
       "      <th>rooms</th>\n",
       "      <th>size</th>\n",
       "      <th>level</th>\n",
       "      <th>repair</th>\n",
       "      <th>wall</th>\n",
       "      <th>price</th>\n",
       "    </tr>\n",
       "  </thead>\n",
       "  <tbody>\n",
       "    <tr>\n",
       "      <th>0</th>\n",
       "      <td>продажу</td>\n",
       "      <td>Учтепинский район</td>\n",
       "      <td>2</td>\n",
       "      <td>40 м²</td>\n",
       "      <td>1/5</td>\n",
       "      <td>Средний</td>\n",
       "      <td>Кирпичный</td>\n",
       "      <td>300 у.е.</td>\n",
       "    </tr>\n",
       "    <tr>\n",
       "      <th>1</th>\n",
       "      <td>продажу</td>\n",
       "      <td>Чиланзарский район</td>\n",
       "      <td>2</td>\n",
       "      <td>50 м²</td>\n",
       "      <td>1/4</td>\n",
       "      <td>Евроремонт</td>\n",
       "      <td>Панельный</td>\n",
       "      <td>57 500 у.е.</td>\n",
       "    </tr>\n",
       "    <tr>\n",
       "      <th>2</th>\n",
       "      <td>аренду</td>\n",
       "      <td>Сергелийский район</td>\n",
       "      <td>3</td>\n",
       "      <td>83 м²</td>\n",
       "      <td>3/9</td>\n",
       "      <td>Авторский проект</td>\n",
       "      <td>Монолитный</td>\n",
       "      <td>500 у.е./мес.</td>\n",
       "    </tr>\n",
       "    <tr>\n",
       "      <th>3</th>\n",
       "      <td>аренду</td>\n",
       "      <td>Яшнободский район</td>\n",
       "      <td>1</td>\n",
       "      <td>40 м²</td>\n",
       "      <td>3/9</td>\n",
       "      <td>Евроремонт</td>\n",
       "      <td>Панельный</td>\n",
       "      <td>450 у.е./мес.</td>\n",
       "    </tr>\n",
       "    <tr>\n",
       "      <th>4</th>\n",
       "      <td>аренду</td>\n",
       "      <td>Мирабадский район</td>\n",
       "      <td>3</td>\n",
       "      <td>93 м²</td>\n",
       "      <td>7/9</td>\n",
       "      <td>Евроремонт</td>\n",
       "      <td>Панельный</td>\n",
       "      <td>1 000 у.е./мес.</td>\n",
       "    </tr>\n",
       "    <tr>\n",
       "      <th>...</th>\n",
       "      <td>...</td>\n",
       "      <td>...</td>\n",
       "      <td>...</td>\n",
       "      <td>...</td>\n",
       "      <td>...</td>\n",
       "      <td>...</td>\n",
       "      <td>...</td>\n",
       "      <td>...</td>\n",
       "    </tr>\n",
       "    <tr>\n",
       "      <th>13780</th>\n",
       "      <td>аренду</td>\n",
       "      <td>Чиланзарский район</td>\n",
       "      <td>2</td>\n",
       "      <td>50 м²</td>\n",
       "      <td>2/12</td>\n",
       "      <td>Евроремонт</td>\n",
       "      <td>Панельный</td>\n",
       "      <td>800 у.е./мес.</td>\n",
       "    </tr>\n",
       "    <tr>\n",
       "      <th>13781</th>\n",
       "      <td>продажу</td>\n",
       "      <td>Учтепинский район</td>\n",
       "      <td>2</td>\n",
       "      <td>55 м²</td>\n",
       "      <td>2/4</td>\n",
       "      <td>Евроремонт</td>\n",
       "      <td>Кирпичный</td>\n",
       "      <td>59 000 у.е.</td>\n",
       "    </tr>\n",
       "    <tr>\n",
       "      <th>13782</th>\n",
       "      <td>продажу</td>\n",
       "      <td>Юнусабадский район</td>\n",
       "      <td>4</td>\n",
       "      <td>98 м²</td>\n",
       "      <td>9/9</td>\n",
       "      <td>Средний</td>\n",
       "      <td>Панельный</td>\n",
       "      <td>65 000 у.е.</td>\n",
       "    </tr>\n",
       "    <tr>\n",
       "      <th>13783</th>\n",
       "      <td>продажу</td>\n",
       "      <td>Учтепинский район</td>\n",
       "      <td>2</td>\n",
       "      <td>55.4 м²</td>\n",
       "      <td>5/16</td>\n",
       "      <td>Черновая отделка</td>\n",
       "      <td>Монолитный</td>\n",
       "      <td>46 000 у.е.</td>\n",
       "    </tr>\n",
       "    <tr>\n",
       "      <th>13784</th>\n",
       "      <td>продажу</td>\n",
       "      <td>Яккасарайский район</td>\n",
       "      <td>4</td>\n",
       "      <td>104.2 м²</td>\n",
       "      <td>4/9</td>\n",
       "      <td>Черновая отделка</td>\n",
       "      <td>Панельный</td>\n",
       "      <td>95 000 у.е.</td>\n",
       "    </tr>\n",
       "  </tbody>\n",
       "</table>\n",
       "<p>13785 rows × 8 columns</p>\n",
       "</div>"
      ],
      "text/plain": [
       "        status                adress rooms      size level            repair  \\\n",
       "0      продажу     Учтепинский район     2     40 м²   1/5           Средний   \n",
       "1      продажу    Чиланзарский район     2     50 м²   1/4        Евроремонт   \n",
       "2       аренду    Сергелийский район     3     83 м²   3/9  Авторский проект   \n",
       "3       аренду     Яшнободский район     1     40 м²   3/9        Евроремонт   \n",
       "4       аренду     Мирабадский район     3     93 м²   7/9        Евроремонт   \n",
       "...        ...                   ...   ...       ...   ...               ...   \n",
       "13780   аренду    Чиланзарский район     2     50 м²  2/12        Евроремонт   \n",
       "13781  продажу     Учтепинский район     2     55 м²   2/4        Евроремонт   \n",
       "13782  продажу    Юнусабадский район     4     98 м²   9/9           Средний   \n",
       "13783  продажу     Учтепинский район     2   55.4 м²  5/16  Черновая отделка   \n",
       "13784  продажу   Яккасарайский район     4  104.2 м²   4/9  Черновая отделка   \n",
       "\n",
       "             wall            price  \n",
       "0       Кирпичный         300 у.е.  \n",
       "1       Панельный      57 500 у.е.  \n",
       "2      Монолитный    500 у.е./мес.  \n",
       "3       Панельный    450 у.е./мес.  \n",
       "4       Панельный  1 000 у.е./мес.  \n",
       "...           ...              ...  \n",
       "13780   Панельный    800 у.е./мес.  \n",
       "13781   Кирпичный      59 000 у.е.  \n",
       "13782   Панельный      65 000 у.е.  \n",
       "13783  Монолитный      46 000 у.е.  \n",
       "13784   Панельный      95 000 у.е.  \n",
       "\n",
       "[13785 rows x 8 columns]"
      ]
     },
     "execution_count": 72,
     "metadata": {},
     "output_type": "execute_result"
    }
   ],
   "source": [
    "df"
   ]
  },
  {
   "cell_type": "code",
   "execution_count": 103,
   "id": "2a0455f2",
   "metadata": {
    "scrolled": true
   },
   "outputs": [],
   "source": [
    "df.fillna(' ', inplace=True)"
   ]
  },
  {
   "cell_type": "code",
   "execution_count": 105,
   "id": "c0b9dfcb",
   "metadata": {},
   "outputs": [],
   "source": [
    "df['size'] = [i.replace(' м²', '') for i in df['size']]"
   ]
  },
  {
   "cell_type": "code",
   "execution_count": 106,
   "id": "6af49911",
   "metadata": {},
   "outputs": [
    {
     "data": {
      "text/html": [
       "<div>\n",
       "<style scoped>\n",
       "    .dataframe tbody tr th:only-of-type {\n",
       "        vertical-align: middle;\n",
       "    }\n",
       "\n",
       "    .dataframe tbody tr th {\n",
       "        vertical-align: top;\n",
       "    }\n",
       "\n",
       "    .dataframe thead th {\n",
       "        text-align: right;\n",
       "    }\n",
       "</style>\n",
       "<table border=\"1\" class=\"dataframe\">\n",
       "  <thead>\n",
       "    <tr style=\"text-align: right;\">\n",
       "      <th></th>\n",
       "      <th>status</th>\n",
       "      <th>adress</th>\n",
       "      <th>rooms</th>\n",
       "      <th>size</th>\n",
       "      <th>level</th>\n",
       "      <th>repair</th>\n",
       "      <th>wall</th>\n",
       "      <th>price</th>\n",
       "    </tr>\n",
       "  </thead>\n",
       "  <tbody>\n",
       "    <tr>\n",
       "      <th>0</th>\n",
       "      <td>продажу</td>\n",
       "      <td>Учтепинский район</td>\n",
       "      <td>2</td>\n",
       "      <td>40</td>\n",
       "      <td>1/5</td>\n",
       "      <td>Средний</td>\n",
       "      <td>Кирпичный</td>\n",
       "      <td>300 у.е.</td>\n",
       "    </tr>\n",
       "    <tr>\n",
       "      <th>1</th>\n",
       "      <td>продажу</td>\n",
       "      <td>Чиланзарский район</td>\n",
       "      <td>2</td>\n",
       "      <td>50</td>\n",
       "      <td>1/4</td>\n",
       "      <td>Евроремонт</td>\n",
       "      <td>Панельный</td>\n",
       "      <td>57 500 у.е.</td>\n",
       "    </tr>\n",
       "    <tr>\n",
       "      <th>2</th>\n",
       "      <td>аренду</td>\n",
       "      <td>Сергелийский район</td>\n",
       "      <td>3</td>\n",
       "      <td>83</td>\n",
       "      <td>3/9</td>\n",
       "      <td>Авторский проект</td>\n",
       "      <td>Монолитный</td>\n",
       "      <td>500 у.е./мес.</td>\n",
       "    </tr>\n",
       "    <tr>\n",
       "      <th>3</th>\n",
       "      <td>аренду</td>\n",
       "      <td>Яшнободский район</td>\n",
       "      <td>1</td>\n",
       "      <td>40</td>\n",
       "      <td>3/9</td>\n",
       "      <td>Евроремонт</td>\n",
       "      <td>Панельный</td>\n",
       "      <td>450 у.е./мес.</td>\n",
       "    </tr>\n",
       "    <tr>\n",
       "      <th>4</th>\n",
       "      <td>аренду</td>\n",
       "      <td>Мирабадский район</td>\n",
       "      <td>3</td>\n",
       "      <td>93</td>\n",
       "      <td>7/9</td>\n",
       "      <td>Евроремонт</td>\n",
       "      <td>Панельный</td>\n",
       "      <td>1 000 у.е./мес.</td>\n",
       "    </tr>\n",
       "    <tr>\n",
       "      <th>...</th>\n",
       "      <td>...</td>\n",
       "      <td>...</td>\n",
       "      <td>...</td>\n",
       "      <td>...</td>\n",
       "      <td>...</td>\n",
       "      <td>...</td>\n",
       "      <td>...</td>\n",
       "      <td>...</td>\n",
       "    </tr>\n",
       "    <tr>\n",
       "      <th>13780</th>\n",
       "      <td>аренду</td>\n",
       "      <td>Чиланзарский район</td>\n",
       "      <td>2</td>\n",
       "      <td>50</td>\n",
       "      <td>2/12</td>\n",
       "      <td>Евроремонт</td>\n",
       "      <td>Панельный</td>\n",
       "      <td>800 у.е./мес.</td>\n",
       "    </tr>\n",
       "    <tr>\n",
       "      <th>13781</th>\n",
       "      <td>продажу</td>\n",
       "      <td>Учтепинский район</td>\n",
       "      <td>2</td>\n",
       "      <td>55</td>\n",
       "      <td>2/4</td>\n",
       "      <td>Евроремонт</td>\n",
       "      <td>Кирпичный</td>\n",
       "      <td>59 000 у.е.</td>\n",
       "    </tr>\n",
       "    <tr>\n",
       "      <th>13782</th>\n",
       "      <td>продажу</td>\n",
       "      <td>Юнусабадский район</td>\n",
       "      <td>4</td>\n",
       "      <td>98</td>\n",
       "      <td>9/9</td>\n",
       "      <td>Средний</td>\n",
       "      <td>Панельный</td>\n",
       "      <td>65 000 у.е.</td>\n",
       "    </tr>\n",
       "    <tr>\n",
       "      <th>13783</th>\n",
       "      <td>продажу</td>\n",
       "      <td>Учтепинский район</td>\n",
       "      <td>2</td>\n",
       "      <td>55.4</td>\n",
       "      <td>5/16</td>\n",
       "      <td>Черновая отделка</td>\n",
       "      <td>Монолитный</td>\n",
       "      <td>46 000 у.е.</td>\n",
       "    </tr>\n",
       "    <tr>\n",
       "      <th>13784</th>\n",
       "      <td>продажу</td>\n",
       "      <td>Яккасарайский район</td>\n",
       "      <td>4</td>\n",
       "      <td>104.2</td>\n",
       "      <td>4/9</td>\n",
       "      <td>Черновая отделка</td>\n",
       "      <td>Панельный</td>\n",
       "      <td>95 000 у.е.</td>\n",
       "    </tr>\n",
       "  </tbody>\n",
       "</table>\n",
       "<p>13785 rows × 8 columns</p>\n",
       "</div>"
      ],
      "text/plain": [
       "        status                adress rooms   size level            repair  \\\n",
       "0      продажу     Учтепинский район     2     40   1/5           Средний   \n",
       "1      продажу    Чиланзарский район     2     50   1/4        Евроремонт   \n",
       "2       аренду    Сергелийский район     3     83   3/9  Авторский проект   \n",
       "3       аренду     Яшнободский район     1     40   3/9        Евроремонт   \n",
       "4       аренду     Мирабадский район     3     93   7/9        Евроремонт   \n",
       "...        ...                   ...   ...    ...   ...               ...   \n",
       "13780   аренду    Чиланзарский район     2     50  2/12        Евроремонт   \n",
       "13781  продажу     Учтепинский район     2     55   2/4        Евроремонт   \n",
       "13782  продажу    Юнусабадский район     4     98   9/9           Средний   \n",
       "13783  продажу     Учтепинский район     2   55.4  5/16  Черновая отделка   \n",
       "13784  продажу   Яккасарайский район     4  104.2   4/9  Черновая отделка   \n",
       "\n",
       "             wall            price  \n",
       "0       Кирпичный         300 у.е.  \n",
       "1       Панельный      57 500 у.е.  \n",
       "2      Монолитный    500 у.е./мес.  \n",
       "3       Панельный    450 у.е./мес.  \n",
       "4       Панельный  1 000 у.е./мес.  \n",
       "...           ...              ...  \n",
       "13780   Панельный    800 у.е./мес.  \n",
       "13781   Кирпичный      59 000 у.е.  \n",
       "13782   Панельный      65 000 у.е.  \n",
       "13783  Монолитный      46 000 у.е.  \n",
       "13784   Панельный      95 000 у.е.  \n",
       "\n",
       "[13785 rows x 8 columns]"
      ]
     },
     "execution_count": 106,
     "metadata": {},
     "output_type": "execute_result"
    }
   ],
   "source": [
    "df"
   ]
  },
  {
   "cell_type": "code",
   "execution_count": 115,
   "id": "d2ae336f",
   "metadata": {},
   "outputs": [],
   "source": [
    "df = df[[i.isalnum() for i in df['size']]]"
   ]
  },
  {
   "cell_type": "code",
   "execution_count": 112,
   "id": "48255eb1",
   "metadata": {},
   "outputs": [],
   "source": [
    "df[df.status == 'аренду']"
   ]
  },
  {
   "cell_type": "code",
   "execution_count": 114,
   "id": "7c1ea320",
   "metadata": {},
   "outputs": [],
   "source": [
    "df"
   ]
  },
  {
   "cell_type": "code",
   "execution_count": null,
   "id": "f80ab1b2",
   "metadata": {},
   "outputs": [],
   "source": []
  }
 ],
 "metadata": {
  "kernelspec": {
   "display_name": "Python 3 (ipykernel)",
   "language": "python",
   "name": "python3"
  },
  "language_info": {
   "codemirror_mode": {
    "name": "ipython",
    "version": 3
   },
   "file_extension": ".py",
   "mimetype": "text/x-python",
   "name": "python",
   "nbconvert_exporter": "python",
   "pygments_lexer": "ipython3",
   "version": "3.10.10"
  },
  "varInspector": {
   "cols": {
    "lenName": 16,
    "lenType": 16,
    "lenVar": 40
   },
   "kernels_config": {
    "python": {
     "delete_cmd_postfix": "",
     "delete_cmd_prefix": "del ",
     "library": "var_list.py",
     "varRefreshCmd": "print(var_dic_list())"
    },
    "r": {
     "delete_cmd_postfix": ") ",
     "delete_cmd_prefix": "rm(",
     "library": "var_list.r",
     "varRefreshCmd": "cat(var_dic_list()) "
    }
   },
   "types_to_exclude": [
    "module",
    "function",
    "builtin_function_or_method",
    "instance",
    "_Feature"
   ],
   "window_display": false
  }
 },
 "nbformat": 4,
 "nbformat_minor": 5
}
