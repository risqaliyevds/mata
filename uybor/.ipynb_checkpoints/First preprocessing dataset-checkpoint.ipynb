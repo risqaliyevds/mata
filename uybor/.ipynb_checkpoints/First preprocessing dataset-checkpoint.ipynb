{
 "cells": [
  {
   "cell_type": "code",
   "execution_count": 134,
   "id": "1274d633",
   "metadata": {},
   "outputs": [],
   "source": [
    "import pandas as pd"
   ]
  },
  {
   "cell_type": "code",
   "execution_count": 120,
   "id": "511c3ffb",
   "metadata": {},
   "outputs": [],
   "source": [
    "# Concat all .csv files\n",
    "for i in range(1,7):\n",
    "    df_c = pd.read_csv(f'df{i}.csv', index_col=0)\n",
    "    try:\n",
    "        df = pd.concat([df, df_c]).reset_index(drop=True)\n",
    "    except:\n",
    "        df = pd.concat([df_c])\n",
    "\n",
    "# Define status ('rent' or 'cell')\n",
    "df['status'] = [i.split(' ')[-1] for i in df.name]\n",
    "df.drop('name', axis=1, inplace=True)\n",
    "\n",
    "# Separate only Tashkent city (this .csv file includes all regions of Uzbekistan)\n",
    "bool_adress = [i.split(',')[0] == 'город Ташкент' for i in df.adress]\n",
    "df = df[bool_adress]\n",
    "\n",
    "# Remove all ther informations from adress columns it could be helpfull\n",
    "# if we can use this all informations but it is quite inpossible\n",
    "df['adress'] = [i.split(',')[1] for i in df.adress]\n",
    "\n",
    "# Filling missed values\n",
    "df.fillna(' ', inplace=True)\n",
    "\n",
    "# Split 'size' columns into two part\n",
    "df_size = pd.DataFrame([i.split('м²')[0:2] for i in df['size']],\n",
    "                       columns=['size', 'measure'],\n",
    "                       index= df.index)\n",
    "df['size'] = df_size['size']\n",
    "df['measure'] = df_size['measure']\n",
    "\n",
    "# Separate price\n",
    "df['price'] = [i.split(' у.е.')[0] for i in df.price]\n",
    "\n",
    "# Last df\n",
    "df = df[['adress', 'rooms', 'size', 'measure', 'level', 'repair', 'wall', 'price', 'status']]"
   ]
  },
  {
   "cell_type": "code",
   "execution_count": 142,
   "id": "5e77af9d",
   "metadata": {},
   "outputs": [],
   "source": [
    "df_arenda = df[df['status'] == 'аренду']"
   ]
  },
  {
   "cell_type": "code",
   "execution_count": 143,
   "id": "4ae5cb63",
   "metadata": {},
   "outputs": [],
   "source": [
    "df_arenda.to_csv('dataset retail.csv', index=False)"
   ]
  }
 ],
 "metadata": {
  "kernelspec": {
   "display_name": "Python 3 (ipykernel)",
   "language": "python",
   "name": "python3"
  },
  "language_info": {
   "codemirror_mode": {
    "name": "ipython",
    "version": 3
   },
   "file_extension": ".py",
   "mimetype": "text/x-python",
   "name": "python",
   "nbconvert_exporter": "python",
   "pygments_lexer": "ipython3",
   "version": "3.10.10"
  },
  "varInspector": {
   "cols": {
    "lenName": 16,
    "lenType": 16,
    "lenVar": 40
   },
   "kernels_config": {
    "python": {
     "delete_cmd_postfix": "",
     "delete_cmd_prefix": "del ",
     "library": "var_list.py",
     "varRefreshCmd": "print(var_dic_list())"
    },
    "r": {
     "delete_cmd_postfix": ") ",
     "delete_cmd_prefix": "rm(",
     "library": "var_list.r",
     "varRefreshCmd": "cat(var_dic_list()) "
    }
   },
   "types_to_exclude": [
    "module",
    "function",
    "builtin_function_or_method",
    "instance",
    "_Feature"
   ],
   "window_display": false
  }
 },
 "nbformat": 4,
 "nbformat_minor": 5
}
